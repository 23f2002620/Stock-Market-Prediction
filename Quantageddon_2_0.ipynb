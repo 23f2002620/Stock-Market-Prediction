{
  "nbformat": 4,
  "nbformat_minor": 0,
  "metadata": {
    "colab": {
      "provenance": [],
      "authorship_tag": "ABX9TyPePC1RAs49LqdKx7cm8ZlQ",
      "include_colab_link": true
    },
    "kernelspec": {
      "name": "python3",
      "display_name": "Python 3"
    },
    "language_info": {
      "name": "python"
    }
  },
  "cells": [
    {
      "cell_type": "markdown",
      "metadata": {
        "id": "view-in-github",
        "colab_type": "text"
      },
      "source": [
        "<a href=\"https://colab.research.google.com/github/23f2002620/Stock-Market-Prediction/blob/main/Quantageddon_2_0.ipynb\" target=\"_parent\"><img src=\"https://colab.research.google.com/assets/colab-badge.svg\" alt=\"Open In Colab\"/></a>"
      ]
    },
    {
      "cell_type": "code",
      "source": [
        "# prompt: train set -Date, Open, High, Low, Close, Volume, treasury_10y, fed_funds, treasury_3m, unemployment,\tinflation_cpi,\tconsumer_confidence\t,financial_stress,\tyield_spread\t,yield_curve_inverted\t,confidence_zscore,\tcomposite_sentiment,\ttarget. test set - Date,\tOpen,\tHigh\t,Low,\tVolume,\ttreasury_10y,\tfed_funds\t,treasury_3m,\tunemployment,\tinflation_cpi,\tconsumer_confidence,\tfinancial_stress,\tyield_spread\t,yield_curve_inverted\t,confidence_zscore,\tcomposite_sentiment,\tid. output csv - id , target. implement linear regression\n",
        "\n",
        "import pandas as pd\n",
        "from sklearn.model_selection import train_test_split\n",
        "from sklearn.linear_model import LinearRegression\n",
        "from sklearn.metrics import mean_squared_error\n",
        "\n",
        "train_df = pd.read_csv('train.csv')\n",
        "test_df = pd.read_csv('test.csv')\n",
        "\n",
        "features = ['Open', 'High', 'Low', 'Close', 'Volume', 'treasury_10y', 'fed_funds',\n",
        "            'treasury_3m', 'unemployment', 'inflation_cpi', 'consumer_confidence',\n",
        "            'financial_stress', 'yield_spread', 'yield_curve_inverted',\n",
        "            'confidence_zscore', 'composite_sentiment']\n",
        "target = 'target'\n",
        "\n",
        "X_train = train_df[features]\n",
        "y_train = train_df[target]\n",
        "\n",
        "test_features = ['Open', 'High', 'Low', 'Volume', 'treasury_10y', 'fed_funds',\n",
        "                 'treasury_3m', 'unemployment', 'inflation_cpi', 'consumer_confidence',\n",
        "                 'financial_stress', 'yield_spread', 'yield_curve_inverted',\n",
        "                 'confidence_zscore', 'composite_sentiment']\n",
        "\n",
        "X_test = test_df[test_features]\n",
        "\n",
        "X_train = X_train.dropna(axis=0)\n",
        "y_train = y_train.loc[X_train.index]\n",
        "\n",
        "model = LinearRegression()\n",
        "model.fit(X_train, y_train)\n",
        "\n",
        "predictions = model.predict(X_test)\n",
        "\n",
        "output_df = pd.DataFrame({'id': test_df['id'], 'target': predictions})\n",
        "\n",
        "output_df.to_csv('submission.csv', index=False)\n",
        "\n",
        "print(\"Submission file 'submission.csv' created successfully.\")\n",
        "\n"
      ],
      "metadata": {
        "colab": {
          "base_uri": "https://localhost:8080/"
        },
        "id": "kJt75jYfr7h9",
        "outputId": "89a6b3b3-f564-4c9f-b9d2-3cee64ad68a7"
      },
      "execution_count": null,
      "outputs": [
        {
          "output_type": "stream",
          "name": "stdout",
          "text": [
            "Submission file 'submission.csv' created successfully.\n"
          ]
        }
      ]
    },
    {
      "cell_type": "code",
      "source": [
        "\n",
        "from sklearn.ensemble import RandomForestRegressor\n",
        "\n",
        "rf_model = RandomForestRegressor(n_estimators=100, random_state=42, n_jobs=-1)\n",
        "rf_model.fit(X_train, y_train)\n",
        "\n",
        "rf_predictions = rf_model.predict(X_test)\n",
        "\n",
        "rf_output_df = pd.DataFrame({'id': test_df['id'], 'target': rf_predictions})\n",
        "\n",
        "rf_output_df.to_csv('rf_submission.csv', index=False)\n",
        "\n",
        "print(\"Random Forest submission file 'rf_submission.csv' created successfully.\")\n",
        "\n"
      ],
      "metadata": {
        "colab": {
          "base_uri": "https://localhost:8080/"
        },
        "id": "yRZ0LThwtetB",
        "outputId": "15ad94f2-8ef5-4e4a-eb85-e8ae92b03e5d"
      },
      "execution_count": null,
      "outputs": [
        {
          "output_type": "stream",
          "name": "stdout",
          "text": [
            "Random Forest submission file 'rf_submission.csv' created successfully.\n"
          ]
        }
      ]
    },
    {
      "cell_type": "code",
      "source": [
        "\n",
        "\n",
        "from sklearn.neighbors import KNeighborsRegressor\n",
        "\n",
        "knn_model = KNeighborsRegressor(n_neighbors=5)\n",
        "knn_model.fit(X_train, y_train)\n",
        "\n",
        "knn_predictions = knn_model.predict(X_test)\n",
        "\n",
        "knn_output_df = pd.DataFrame({'id': test_df['id'], 'target': knn_predictions})\n",
        "\n",
        "knn_output_df.to_csv('knn_submission.csv', index=False)\n",
        "\n",
        "print(\"KNN submission file 'knn_submission.csv' created successfully.\")\n",
        "\n"
      ],
      "metadata": {
        "colab": {
          "base_uri": "https://localhost:8080/"
        },
        "id": "qcJAn6uqv04q",
        "outputId": "ef5ff259-a0f7-42fd-f69c-0af09b096fcd"
      },
      "execution_count": null,
      "outputs": [
        {
          "output_type": "stream",
          "name": "stdout",
          "text": [
            "KNN submission file 'knn_submission.csv' created successfully.\n"
          ]
        }
      ]
    },
    {
      "cell_type": "code",
      "source": [
        "from sklearn.linear_model import Lasso\n",
        "\n",
        "lasso_model = Lasso(alpha=1.0)\n",
        "lasso_model.fit(X_train, y_train)\n",
        "\n",
        "lasso_predictions = lasso_model.predict(X_test)\n",
        "\n",
        "lasso_output_df = pd.DataFrame({'id': test_df['id'], 'target': lasso_predictions})\n",
        "\n",
        "lasso_output_df.to_csv('lasso_submission.csv', index=False)\n",
        "\n",
        "print(\"Lasso Regression submission file 'lasso_submission.csv' created successfully.\")\n"
      ],
      "metadata": {
        "colab": {
          "base_uri": "https://localhost:8080/"
        },
        "id": "6ypXK1vnzbEo",
        "outputId": "3d9788b2-25e4-4510-9d58-aacbae3c68ee"
      },
      "execution_count": null,
      "outputs": [
        {
          "output_type": "stream",
          "name": "stderr",
          "text": [
            "/usr/local/lib/python3.11/dist-packages/sklearn/linear_model/_coordinate_descent.py:695: ConvergenceWarning: Objective did not converge. You might want to increase the number of iterations, check the scale of the features or consider increasing regularisation. Duality gap: 9.505e+03, tolerance: 7.292e+03\n",
            "  model = cd_fast.enet_coordinate_descent(\n"
          ]
        },
        {
          "output_type": "stream",
          "name": "stdout",
          "text": [
            "Lasso Regression submission file 'lasso_submission.csv' created successfully.\n"
          ]
        }
      ]
    },
    {
      "cell_type": "code",
      "source": [
        "from sklearn.linear_model import Ridge\n",
        "\n",
        "ridge_model = Ridge(alpha=1.0)\n",
        "ridge_model.fit(X_train, y_train)\n",
        "\n",
        "ridge_predictions = ridge_model.predict(X_test)\n",
        "\n",
        "ridge_output_df = pd.DataFrame({'id': test_df['id'], 'target': ridge_predictions})\n",
        "\n",
        "ridge_output_df.to_csv('ridge_submission.csv', index=False)\n",
        "\n",
        "print(\"Ridge Regression submission file 'ridge_submission.csv' created successfully.\")\n"
      ],
      "metadata": {
        "colab": {
          "base_uri": "https://localhost:8080/"
        },
        "id": "I1fj_RmWz8le",
        "outputId": "df0b3e1d-b4e1-435f-c3c5-07715428672b"
      },
      "execution_count": null,
      "outputs": [
        {
          "output_type": "stream",
          "name": "stderr",
          "text": [
            "/usr/local/lib/python3.11/dist-packages/sklearn/linear_model/_ridge.py:215: LinAlgWarning: Ill-conditioned matrix (rcond=7.41166e-26): result may not be accurate.\n",
            "  return linalg.solve(A, Xy, assume_a=\"pos\", overwrite_a=True).T\n"
          ]
        },
        {
          "output_type": "stream",
          "name": "stdout",
          "text": [
            "Ridge Regression submission file 'ridge_submission.csv' created successfully.\n"
          ]
        }
      ]
    },
    {
      "cell_type": "code",
      "source": [
        "# prompt: Elastic Net\n",
        "\n",
        "from sklearn.linear_model import ElasticNet\n",
        "\n",
        "elastic_net_model = ElasticNet(alpha=1.0, l1_ratio=0.5) # You can tune alpha and l1_ratio\n",
        "elastic_net_model.fit(X_train, y_train)\n",
        "\n",
        "elastic_net_predictions = elastic_net_model.predict(X_test)\n",
        "\n",
        "elastic_net_output_df = pd.DataFrame({'id': test_df['id'], 'target': elastic_net_predictions})\n",
        "\n",
        "elastic_net_output_df.to_csv('elastic_net_submission.csv', index=False)\n",
        "\n",
        "print(\"Elastic Net Regression submission file 'elastic_net_submission.csv' created successfully.\")"
      ],
      "metadata": {
        "colab": {
          "base_uri": "https://localhost:8080/"
        },
        "id": "vmpB3c8q6iuQ",
        "outputId": "5293ef5e-2bb9-443b-e944-b53526a2860d"
      },
      "execution_count": null,
      "outputs": [
        {
          "output_type": "stream",
          "name": "stderr",
          "text": [
            "/usr/local/lib/python3.11/dist-packages/sklearn/linear_model/_coordinate_descent.py:695: ConvergenceWarning: Objective did not converge. You might want to increase the number of iterations, check the scale of the features or consider increasing regularisation. Duality gap: 2.400e+05, tolerance: 7.292e+03\n",
            "  model = cd_fast.enet_coordinate_descent(\n"
          ]
        },
        {
          "output_type": "stream",
          "name": "stdout",
          "text": [
            "Elastic Net Regression submission file 'elastic_net_submission.csv' created successfully.\n"
          ]
        }
      ]
    }
  ]
}